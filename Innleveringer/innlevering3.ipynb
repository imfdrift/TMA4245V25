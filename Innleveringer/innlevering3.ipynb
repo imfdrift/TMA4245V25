{
 "cells": [
  {
   "cell_type": "markdown",
   "id": "bbc752a0-3f69-4c23-a817-284bcf2574d4",
   "metadata": {},
   "source": [
    "# Skriftlig innlevering 3"
   ]
  },
  {
   "cell_type": "markdown",
   "id": "dfc9d8cf-eef2-4066-959a-cd6fc2c9684a",
   "metadata": {},
   "source": [
    "## Oppgave 1 **\n",
    "En bedrift har kjøpt inn en ny kraftig datamaskin og vurderer behovet for vedlikeholdsarbeid på denne. De regner med at feilene som vil oppstå er av to typer, feil som de kan utbedre selv (type A-feil) og feil som krever assistanse fra merkeleverandør for å utbedre (type B-feil). De antar at feil av type A kommer ifølge en poissonprosess med intensitet $\\lambda_A$ (per døgn), og at feil av type B kommer ifølge en poissonprosess med intensitet $\\lambda_B$ (per døgn). Dessuten antar de at feil av type A og type B oppstår uavhengig av hverandre. La $X_A$ og $X_B$ våre henholdsvis antall feil som vil oppstå av type A og av type B i løpet av et år (365 døgn)."
   ]
  },
  {
   "cell_type": "markdown",
   "id": "8a807ae3-bec7-4e63-965a-7489e318ffa1",
   "metadata": {},
   "source": [
    "### Deloppgave a) **\n",
    "Dersom $\\lambda_A=\\frac{3}{73}=0.0411$ og $\\lambda_B=\\frac{1}{73}=0.0137$, finn\n",
    "\n",
    "\\begin{align*}\n",
    "    E[X_A],\\ \\ \\ \\ P(X_A\\leq 15),\\ \\ \\ \\ P(X_A\\leq 15,X_B\\leq 10)\\ \\ \\ \\\n",
    "        \\mbox{og}\\ \\ \\ \\ P(X_A\\leq 15|X_B\\leq 10).\n",
    "\\end{align*}\n",
    "#### Her er deloppgave a) slutt.\n",
    "La $Z=X_A+X_B$ være totalt antall feil som oppstår i løpet av et år. "
   ]
  },
  {
   "cell_type": "markdown",
   "id": "14100c35",
   "metadata": {},
   "source": [
    "### Deloppgave b)\n",
    "I forelesning ble det vist at summen av to uavhengige poissonfordelte stokastiske variabler (med ulike rater) også er poissonfordelt. Bruk nå momentgenererende funksjoner til å vise at summen av to uavhengige poissonfordelte stokastiske variabler er poissonfordelt. "
   ]
  },
  {
   "cell_type": "markdown",
   "id": "be1975c4-336f-4cb8-b9ea-0228c407c981",
   "metadata": {},
   "source": [
    "### Deloppgave c) **\n",
    "Finn den betingede fordelingen for antall feil av type $A$ i løpet av et år, gitt at totalt antall\n",
    "    feil i løpet av dette året var lik et gitt tall $z$, dvs finn et uttrykk for\n",
    "\\begin{align*}\n",
    "    f_{X_A|Z}(x_A|z) = P(X_A=x_A|Z=z).\n",
    "\\end{align*}\n",
    "\n",
    "Kan du gjenkjenne denne betingede fordelingen som en fordeling vi har diskutert?"
   ]
  },
  {
   "cell_type": "markdown",
   "id": "30934338-a723-4160-ac11-86e0a80d7ed0",
   "metadata": {},
   "source": [
    "## Oppgave 2 **\n",
    "La $X$ være fødselsvekt i gram til et tilfeldig barn i Norge. Anta at $X$ er normalfordelt med \n",
    "forventningsverdi $\\mu=E[X]=3500$ og standardavvik $\\sigma = \\mbox{SD}[X]=570$.\n",
    "\n"
   ]
  },
  {
   "cell_type": "markdown",
   "id": "0fe7864d-4f65-4827-a202-80e7cb0d6a5d",
   "metadata": {},
   "source": [
    "### Deloppgave a)\n",
    "Finn sannsynlighetene\n",
    "    \n",
    "\\begin{align*}\n",
    "    P(X\\geq 3000),\\ &\\ \\ P(3200 \\leq X < 4000), \\\\\n",
    "  P(X\\geq 3500|X\\geq 3000)\n",
    "    \\ \\ \\ &\\mbox{og}\\ \\ \\ P(X\\leq 4000|X\\geq 3200).\n",
    "\\end{align*}"
   ]
  },
  {
   "cell_type": "markdown",
   "id": "c5b0d915-4149-42ae-beaa-7f02f4d3374f",
   "metadata": {},
   "source": [
    "#### Her er deloppgave a) slutt\n",
    "Et barn blir klassifisert som undervektig dersom fødselsvekta er under $c$ gram, der $c$ velges slik at\n",
    "\n",
    "\\begin{align*}\n",
    "  P(X<c) = 0.01.\n",
    "\\end{align*}\n",
    "\n",
    "La $Y$ være antall av $n=100$ barn i Norge som var undervektige ved fødselen."
   ]
  },
  {
   "cell_type": "markdown",
   "id": "fd6cebbd-611d-4679-bf89-58bd95e69486",
   "metadata": {},
   "source": [
    "### Deloppgave b)\n",
    "* Finn verdien til $c$.\n",
    "* Hvilke antagelser må du gjøre (i tillegg til de som er spesifisert over) for at $Y$ skal være\n",
    "    binomisk fordelt?\n",
    "* Forutsatt at $Y$ er binomisk fordelt, finn $P(Y\\geq 1)$ og $P(Y\\geq 2|Y\\geq 1)$."
   ]
  },
  {
   "cell_type": "markdown",
   "id": "6d95f733-edca-4082-b5b4-2d0de74348f9",
   "metadata": {},
   "source": [
    "## Oppgave 3 *\n",
    "Betrakt en poissonprosess med intensitet $\\lambda$. La $Z_1$ være tidspunkt for den første \n",
    "hendelsen i prosessen, la $Z_2$ være tidspunkt for den andre hendelsen i prosessen, og tilsvarende \n",
    "videre slik at $Z_k$ er tidspunkt for hendelse nummer $k$ i prosessen.\n",
    "\n",
    "La $X_1=Z_1$ og for $k=2,3,\\ldots$ la\n",
    "\n",
    "\\begin{align*}\n",
    "X_k = Z_k - Z_{k-1}.\n",
    "\\end{align*}\n",
    "\n",
    "Dermed har vi altså at $X_1$ er tid til første hendelse i poissonprosessen, og for $k=2,3,\\ldots$ er $X_k$ tid mellom to etterfølgende hendelser i poissonprosessen. Vi vet dermed at $X_1,X_2,\\ldots$ er uavhengige og eksponensialfordelte, alle med samme parameterverdi $\\lambda$."
   ]
  },
  {
   "cell_type": "markdown",
   "id": "5b5316b5-81c6-4a01-a0d4-dbdb099790b1",
   "metadata": {},
   "source": [
    "Finn sannsynlighetene \n",
    "\n",
    "\\begin{align*}\n",
    "P(X_1 \\geq 2),\\ \\ \\ \\ P(X_1 + X_2 \\geq 4)\\ \\ \\ \\ \\mbox{og}\\ \\ \\ \\ P(X_1+X_2\\geq 4|X_1\\geq 2).\n",
    "\\end{align*}\n",
    "\n",
    "Finn først formler for sannsynlighetene som funksjon av $\\lambda$, og sett deretter inn $\\lambda=0.5$ og regn ut en numerisk verdi.\n",
    "\n",
    "<em>Merk at sannsynlighetene med to stokastiske variabler kan beregnes ved å sette opp dobbeltintegraler over egnet område eller ved å omskrive sannsynligheten til å omhandle en annen stokastisk variabel med en annen sannsynlighetsfordeling.</em>\n",
    "\n"
   ]
  },
  {
   "cell_type": "markdown",
   "id": "c6f923c9-30de-4915-ad45-3f82acdfa9df",
   "metadata": {},
   "source": [
    "## Oppgave 4 *\n",
    "La $X$ være normalfordelt med forventningsverdi $\\mu$ og varians lik $\\sigma^2$, \n",
    "og la $Y=aX+b$ for to konstanter $a$ og $b$."
   ]
  },
  {
   "cell_type": "markdown",
   "id": "22383fa5-1c79-41d4-abfd-71a1620ef9dd",
   "metadata": {},
   "source": [
    "### Deloppgave a)\n",
    "Finn $E[Y]$ og $\\mbox{Var}[Y]$.\n",
    "\n",
    "Lag en pythonfunksjon som simulerer $n$ realisasjoner av $Y$ ved først å simulere $n$ realisasjoner av $X$ ved hjelp av pythonfunksjonen <em>numpy.random.normal</em>, og deretter regner ut tilsvarende verdier av $Y$. Funksjonen din skal ha fem input-parametre, $n$, $\\mu$, $\\sigma$, $a$ og $b$. \n",
    "\n",
    "For $\\mu=1$, $\\sigma=2$, $a=2$ og $b=0.5$, benytt pythonfunksjonen din til å generere $n=100\\ 000$ realisasjoner av $Y$. Lag et sannsynlighetshistogram av disse $n$ verdiene og spesifiser at sannsynlighetshistogrammet skal ha $100$ intervaller (se eventuelt kode fra skriftlig innlevering 2)."
   ]
  },
  {
   "cell_type": "markdown",
   "id": "01d7365f-1082-4ddd-b5ae-80e9e54ac435",
   "metadata": {},
   "source": [
    "Plott så sannsynlighetstettheten til en normalfordeling med forventningsverdi lik $E[Y]$ og varians lik $\\mbox{Var}[Y]$ i samme plott som histogrammet. Observer (dersom du har gjort ting rett) at sannsynlighetstettheten sammenfaller meget godt med sannsynlighetshistogrammet, og konkluder dermed med at det kan se ut som om $Y$ er normalfordelt.\n",
    "\n",
    "Gjenta gjerne denne simuleringsprosedyren også for noen andre verdier av $\\mu$, $\\sigma$, $a$ og $b$ og observer at sannsynlighetshistogrammet også da sammenfaller med tilhørende sannsynlighetstetthet."
   ]
  },
  {
   "cell_type": "code",
   "execution_count": null,
   "id": "728218f5",
   "metadata": {},
   "outputs": [],
   "source": [
    "# Her kan du skrive phytonkoden din\n",
    "\n"
   ]
  },
  {
   "cell_type": "markdown",
   "id": "fa64b8cb-4166-4e7f-bca1-e367f77bd463",
   "metadata": {},
   "source": [
    "### Deloppgave b)\n",
    "Benytt transformasjonsformelen til å utlede sannsynlighetstettheten til $Y$, og vis at denne kan skrives \n",
    "på formen av en normalfordelingstetthet med forventningsverdi og varians lik formelene du fant \n",
    "for henholdsvis $E[Y]$ og $\\mbox{Var}[Y]$ i punktet over.    \n",
    "\n",
    "<em>Merk: Du har nå vist at enhver <b>lineær</b> funksjon av en normalfordelt variabel er normalfordelt, slik simuleringsstudien du gjorde over antydet.</em>\n",
    "<br>\n",
    "<br>\n",
    "<br>\n",
    "<br>\n",
    "<br>"
   ]
  },
  {
   "cell_type": "markdown",
   "id": "64ec49c6",
   "metadata": {},
   "source": [
    "## Oppgave 5\n",
    "Therese er på skiferie i Åre. I det hun kommer til skiheisen VM6:an er klokka akkurat 11:50 og det er lang kø. En skjerm på veggen gir beskjed om at det er 230 personer foran henne i køen. Hun skal møte venninna si på toppen av heisen kl 12:00 og lurer på om hun kommer til å rekke det.\n",
    "\n",
    "Hver stol i heisen har plass for 6 personer og heisen har en makskapasitet på 3000 personer/time, dvs. en frekvens på 500 stoler/time. Fra det at en stol ankommer til bunnstasjonen tar det akkurat 4 minutter å plukke opp passasjerene og frakte dem til toppstasjonen. Grunnet at folk gjerne vil sitte sammen med folk de kjenner fylles ikke stolene helt opp hver gang, men det er stokastisk hvor mange personer som ender opp i hver stol. Vi antar at antall personer som ender opp i en stol er gitt ved følgende sannsynlighetsfordeling.\n",
    "\n",
    "| Antall personer |  | Sannsynlighet |\n",
    "|:---:|----|:------:|\n",
    "| $0$ |  | $0$ |\n",
    "| $1$ |  | $0.02$ |\n",
    "| $2$ |  | $0.03$ |\n",
    "| $3$ |  | $0.15$ |\n",
    "| $4$ |  | $0.25$ |\n",
    "| $5$ |  | $0.35$ |\n",
    "| $6$ |  | $0.2$ |\n",
    "\n",
    "Hva er sannsynligheten for at Therese rekker å møte venninnen sin i tide? Gjør rimelige antakelser og approksimasjoner for å løse oppgaven. Du kan også anta at det ankommer en stol til bunnstasjonen i akkurat det øyeblikket hun kommer til køen.\n",
    "<br>\n",
    "<br>\n",
    "<em>Merk at svaret på oppgaven kan bli forskjellig avhengig av akkurat hvilke antakelser du har gjort og hvordan du har tenkt og regnet. Det er ikke svaret som er det viktige, men fremgangsmåten din og at du motiverer hvordan du resonerer.<em>\n",
    "<br>\n",
    "<br>\n",
    "<br>\n",
    "<br>\n",
    "<br>\n",
    "<br>\n",
    "<br>\n",
    "<br>"
   ]
  },
  {
   "cell_type": "markdown",
   "id": "b6b7b433-bb7d-428c-b8f4-75e377221b66",
   "metadata": {},
   "source": [
    "## Oppgave 6\n",
    "La $p_1$ og $p_2$ være to fikserte reelle tall mellom $0$ og $1$.\n",
    "I denne oppgaven sier vi at en stokastisk variabel $X$ er *trøndersk* fordelt hvis\n",
    "$$\n",
    "P(X = 0) = (1-p_1)(1 - p_2) \\hspace{5mm}P(X = 1) = p_1 + p_2 - 2p_1p_2 \\hspace{5mm} P(X = 2) = p_1p_2.\n",
    "$$\n",
    "### Deloppgave a)\n",
    "Finn den momentgenererende funksjonen $M_X(t)$ til en trøndersk fordelt stokastisk variabel.\n",
    "#### Her er deloppgave a) slutt.\n",
    "La så $X_1$, $X_2$, ...,$X_n$ være $n$ uavhengige trøndersk fordelte stokastiske variable og betrakte deres sum $S_n$, dvs.\n",
    "$$\n",
    "S_n = X_1 + X_2 + ... + X_n.\n",
    "$$\n",
    "### Deloppgave b)\n",
    "Bruk regneregler for momentgenererende funksjoner til å finne den momentgenererende funksjonen til $S_n$: $M_{S_n}(t)$.\n",
    "#### Her er deloppgave b) slutt.\n",
    "La oss nå anta at den stokastiske variabelen $Y$ er binomisk fordelt med parameterer $n$ og $p$, dvs. $Y \\sim \\text{Bin}(n,p)$.\n",
    "### Deloppgave c) \n",
    "Finn den momentgenererende funksjonen til $Y$: $M_Y(t)$.\n",
    "#### Her er deloppgave c) slutt.\n",
    "La oss siden anta at $Z \\sim \\text{Bin}(n,p_1)$ og $W \\sim \\text{Bin}(n,p_2)$, der $Z$ og $W$ er uavhengige.\n",
    "### Deloppgave d) \n",
    "* Bruk regnerelger for momentgenererende funksjoner for å finne $M_{Z + W}(t)$.\n",
    "* Vis at $M_{Z + W}(t) = M_{S_n}(t)$ og bruk dette til å argumentere for at $Z + W$ og $S_n$ har samme fordeling.\n",
    "<br>\n",
    "<br>\n",
    "<br>\n",
    "<br>"
   ]
  },
  {
   "cell_type": "markdown",
   "id": "5cc00d5c-48df-4317-8838-959cc83917cc",
   "metadata": {},
   "source": [
    "## Fasit:\n",
    "* Oppgave 1a): $15, 0.5681, 0.5603, 0.5681$\n",
    "* Oppgave 2a): $0.8106, 05125, 0.6168, 0.7302$\n",
    "* Oppgave 2b): $2174.2, 0.6340, 0.4168$\n",
    "* Oppgave 3a): $0.3679, 0.4060, 0.7358$\n",
    "* Oppgave 4a): $E[Y]=a\\mu+b, \\mbox{Var}[Y]=a^2\\sigma^2$"
   ]
  }
 ],
 "metadata": {
  "kernelspec": {
   "display_name": "Python 3 (ipykernel)",
   "language": "python",
   "name": "python3"
  },
  "language_info": {
   "codemirror_mode": {
    "name": "ipython",
    "version": 3
   },
   "file_extension": ".py",
   "mimetype": "text/x-python",
   "name": "python",
   "nbconvert_exporter": "python",
   "pygments_lexer": "ipython3",
   "version": "3.10.14"
  }
 },
 "nbformat": 4,
 "nbformat_minor": 5
}
