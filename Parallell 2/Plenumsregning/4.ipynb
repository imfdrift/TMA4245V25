{
 "cells": [
  {
   "cell_type": "markdown",
   "id": "7330e0c7-1b66-4f52-8bed-b6993c8b7888",
   "metadata": {},
   "source": [
    "## Beregne nøyaktighet av approksimasjon ved stokastisk simulering"
   ]
  },
  {
   "cell_type": "code",
   "execution_count": 3,
   "id": "04ca1605-31ef-4d1f-bf74-cb6723a6e6ac",
   "metadata": {},
   "outputs": [
    {
     "name": "stdout",
     "output_type": "stream",
     "text": [
      "E[X] eksakt: 0.5\n",
      "E[X] approksimasjon:  0.5075683726529151\n",
      "Approksimasjonfeil:  0.007568372652915101\n",
      "Beregnet approksimasjonsnøyaktighet:  0.009216376890664216\n"
     ]
    }
   ],
   "source": [
    "import numpy as np\n",
    "import matplotlib.pyplot as plt\n",
    "\n",
    "m = 1000\n",
    "u = np.random.uniform(0,1,m)\n",
    "\n",
    "muHat = np.mean(u)\n",
    "SDMuHatHat = (1/np.sqrt(m)) * np.sqrt(np.var(u,ddof=1))\n",
    "\n",
    "print('E[X] eksakt: 0.5')\n",
    "print('E[X] approksimasjon: ',muHat)\n",
    "print('Approksimasjonfeil: ',muHat-0.5)\n",
    "print('Beregnet approksimasjonsnøyaktighet: ', SDMuHatHat)"
   ]
  },
  {
   "cell_type": "code",
   "execution_count": null,
   "id": "adbe4ecd-a47e-4931-818f-49d7cce75f5d",
   "metadata": {},
   "outputs": [],
   "source": []
  }
 ],
 "metadata": {
  "kernelspec": {
   "display_name": "Python 3 (ipykernel)",
   "language": "python",
   "name": "python3"
  },
  "language_info": {
   "codemirror_mode": {
    "name": "ipython",
    "version": 3
   },
   "file_extension": ".py",
   "mimetype": "text/x-python",
   "name": "python",
   "nbconvert_exporter": "python",
   "pygments_lexer": "ipython3",
   "version": "3.12.8"
  }
 },
 "nbformat": 4,
 "nbformat_minor": 5
}
